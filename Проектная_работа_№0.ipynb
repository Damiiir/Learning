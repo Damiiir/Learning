{
  "nbformat": 4,
  "nbformat_minor": 0,
  "metadata": {
    "colab": {
      "name": "Проектная работа №0.ipynb",
      "provenance": [],
      "collapsed_sections": [],
      "authorship_tag": "ABX9TyNLquc+JsGhvyXX9gOJOTSj",
      "include_colab_link": true
    },
    "kernelspec": {
      "name": "python3",
      "display_name": "Python 3"
    },
    "language_info": {
      "name": "python"
    }
  },
  "cells": [
    {
      "cell_type": "markdown",
      "metadata": {
        "id": "view-in-github",
        "colab_type": "text"
      },
      "source": [
        "<a href=\"https://colab.research.google.com/github/Damiiir/Learning/blob/main/%D0%9F%D1%80%D0%BE%D0%B5%D0%BA%D1%82%D0%BD%D0%B0%D1%8F_%D1%80%D0%B0%D0%B1%D0%BE%D1%82%D0%B0_%E2%84%960.ipynb\" target=\"_parent\"><img src=\"https://colab.research.google.com/assets/colab-badge.svg\" alt=\"Open In Colab\"/></a>"
      ]
    },
    {
      "cell_type": "code",
      "execution_count": 42,
      "metadata": {
        "id": "AusvRvxLP9cY"
      },
      "outputs": [],
      "source": [
        "# Импорт необходимых библиотек\n",
        "import pandas as pd\n",
        "import sqlalchemy as sql\n",
        "import requests\n",
        "import datetime as dt"
      ]
    },
    {
      "cell_type": "code",
      "source": [
        "def extract_currency(my_date):\n",
        "  \"\"\"Функция выгрузки курса валюты (EUR/USD) за определенный день\"\"\"\n",
        "\n",
        "  res_dt = dt.datetime.strptime(my_date, '%Y-%d-%m')\n",
        "  start_date = res_dt\n",
        "  end_date = res_dt\n",
        "  base = \"EUR\"\n",
        "  symbols = \"USD\"\n",
        "  format = 'csv'\n",
        "  url = 'https://api.exchangerate.host/timeseries?start_date=start_date&end_date=end_date&base=base&symbols=symbols'\n",
        "  response = requests.get(url)\n",
        "  data = response.json()\n",
        "\n",
        "  print(data)"
      ],
      "metadata": {
        "id": "UenfaKxdQhBB"
      },
      "execution_count": 50,
      "outputs": []
    },
    {
      "cell_type": "markdown",
      "source": [
        "# New Section"
      ],
      "metadata": {
        "id": "3Y5HB0bJfPGL"
      }
    },
    {
      "cell_type": "code",
      "source": [
        "extract_currency('2022-01-05')"
      ],
      "metadata": {
        "colab": {
          "base_uri": "https://localhost:8080/"
        },
        "id": "IuRHlYYGTlJJ",
        "outputId": "9ff0579f-adbf-486d-f0bb-bce503374071"
      },
      "execution_count": 51,
      "outputs": [
        {
          "output_type": "stream",
          "name": "stdout",
          "text": [
            "{'motd': {'msg': 'If you or your company use this project or like what we doing, please consider backing us so we can continue maintaining and evolving this project.', 'url': 'https://exchangerate.host/#/donate'}, 'success': True, 'timeseries': True, 'base': 'BASE', 'start_date': '2022-08-12', 'end_date': '2022-08-12', 'rates': {}}\n"
          ]
        }
      ]
    }
  ]
}