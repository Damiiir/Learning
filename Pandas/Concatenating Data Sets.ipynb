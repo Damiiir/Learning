{
 "cells": [
  {
   "cell_type": "code",
   "execution_count": 1,
   "id": "bcbd1cd4",
   "metadata": {},
   "outputs": [],
   "source": [
    "import pandas as pd"
   ]
  },
  {
   "cell_type": "code",
   "execution_count": 11,
   "id": "6645d22f",
   "metadata": {},
   "outputs": [
    {
     "data": {
      "text/html": [
       "<div>\n",
       "<style scoped>\n",
       "    .dataframe tbody tr th:only-of-type {\n",
       "        vertical-align: middle;\n",
       "    }\n",
       "\n",
       "    .dataframe tbody tr th {\n",
       "        vertical-align: top;\n",
       "    }\n",
       "\n",
       "    .dataframe thead th {\n",
       "        text-align: right;\n",
       "    }\n",
       "</style>\n",
       "<table border=\"1\" class=\"dataframe\">\n",
       "  <thead>\n",
       "    <tr style=\"text-align: right;\">\n",
       "      <th></th>\n",
       "      <th>Country</th>\n",
       "      <th>Price</th>\n",
       "    </tr>\n",
       "  </thead>\n",
       "  <tbody>\n",
       "    <tr>\n",
       "      <th>0</th>\n",
       "      <td>USA</td>\n",
       "      <td>13.99</td>\n",
       "    </tr>\n",
       "    <tr>\n",
       "      <th>1</th>\n",
       "      <td>Italy</td>\n",
       "      <td>9.99</td>\n",
       "    </tr>\n",
       "    <tr>\n",
       "      <th>2</th>\n",
       "      <td>France</td>\n",
       "      <td>12.99</td>\n",
       "    </tr>\n",
       "    <tr>\n",
       "      <th>3</th>\n",
       "      <td>Spain</td>\n",
       "      <td>11.99</td>\n",
       "    </tr>\n",
       "  </tbody>\n",
       "</table>\n",
       "</div>"
      ],
      "text/plain": [
       "  Country  Price\n",
       "0     USA  13.99\n",
       "1   Italy   9.99\n",
       "2  France  12.99\n",
       "3   Spain  11.99"
      ]
     },
     "execution_count": 11,
     "metadata": {},
     "output_type": "execute_result"
    }
   ],
   "source": [
    "country_list = ['USA', 'Italy', 'France', 'Spain']\n",
    "price_list = [13.99, 9.99, 12.99, 11.99]\n",
    "data_one = zip(country_list, price_list)\n",
    "ds_one = pd.DataFrame(data=data_one, columns = ['Country', 'Price'])\n",
    "ds_one"
   ]
  },
  {
   "cell_type": "code",
   "execution_count": 12,
   "id": "19f8509b",
   "metadata": {},
   "outputs": [
    {
     "data": {
      "text/html": [
       "<div>\n",
       "<style scoped>\n",
       "    .dataframe tbody tr th:only-of-type {\n",
       "        vertical-align: middle;\n",
       "    }\n",
       "\n",
       "    .dataframe tbody tr th {\n",
       "        vertical-align: top;\n",
       "    }\n",
       "\n",
       "    .dataframe thead th {\n",
       "        text-align: right;\n",
       "    }\n",
       "</style>\n",
       "<table border=\"1\" class=\"dataframe\">\n",
       "  <thead>\n",
       "    <tr style=\"text-align: right;\">\n",
       "      <th></th>\n",
       "      <th>Region</th>\n",
       "      <th>Variety</th>\n",
       "    </tr>\n",
       "  </thead>\n",
       "  <tbody>\n",
       "    <tr>\n",
       "      <th>0</th>\n",
       "      <td>Rioja</td>\n",
       "      <td>Red blend</td>\n",
       "    </tr>\n",
       "    <tr>\n",
       "      <th>1</th>\n",
       "      <td>Bordeaux</td>\n",
       "      <td>Merlot</td>\n",
       "    </tr>\n",
       "    <tr>\n",
       "      <th>2</th>\n",
       "      <td>Sicilia</td>\n",
       "      <td>Primitivo</td>\n",
       "    </tr>\n",
       "    <tr>\n",
       "      <th>3</th>\n",
       "      <td>Nappa</td>\n",
       "      <td>Chardonnay</td>\n",
       "    </tr>\n",
       "  </tbody>\n",
       "</table>\n",
       "</div>"
      ],
      "text/plain": [
       "     Region     Variety\n",
       "0     Rioja   Red blend\n",
       "1  Bordeaux      Merlot\n",
       "2   Sicilia   Primitivo\n",
       "3     Nappa  Chardonnay"
      ]
     },
     "execution_count": 12,
     "metadata": {},
     "output_type": "execute_result"
    }
   ],
   "source": [
    "region_list = ['Rioja', 'Bordeaux', 'Sicilia', 'Nappa']\n",
    "variety_list = ['Red blend', 'Merlot', 'Primitivo', 'Chardonnay']\n",
    "data_two = zip(region_list, variety_list)\n",
    "s_two = pd.DataFrame(data=data_two, columns = ['Region', 'Variety'])\n",
    "ds_two"
   ]
  },
  {
   "cell_type": "code",
   "execution_count": 13,
   "id": "c7f0fef0",
   "metadata": {},
   "outputs": [],
   "source": [
    "ds_two['Origin'] = [\"Spain\", \"France\", \"Italy\", \"USA\"]"
   ]
  },
  {
   "cell_type": "code",
   "execution_count": 15,
   "id": "ae0bdde2",
   "metadata": {},
   "outputs": [
    {
     "data": {
      "text/html": [
       "<div>\n",
       "<style scoped>\n",
       "    .dataframe tbody tr th:only-of-type {\n",
       "        vertical-align: middle;\n",
       "    }\n",
       "\n",
       "    .dataframe tbody tr th {\n",
       "        vertical-align: top;\n",
       "    }\n",
       "\n",
       "    .dataframe thead th {\n",
       "        text-align: right;\n",
       "    }\n",
       "</style>\n",
       "<table border=\"1\" class=\"dataframe\">\n",
       "  <thead>\n",
       "    <tr style=\"text-align: right;\">\n",
       "      <th></th>\n",
       "      <th>Country</th>\n",
       "      <th>Price</th>\n",
       "      <th>Region</th>\n",
       "      <th>Variety</th>\n",
       "      <th>Origin</th>\n",
       "    </tr>\n",
       "  </thead>\n",
       "  <tbody>\n",
       "    <tr>\n",
       "      <th>0</th>\n",
       "      <td>USA</td>\n",
       "      <td>13.99</td>\n",
       "      <td>Nappa</td>\n",
       "      <td>Chardonnay</td>\n",
       "      <td>USA</td>\n",
       "    </tr>\n",
       "    <tr>\n",
       "      <th>1</th>\n",
       "      <td>Italy</td>\n",
       "      <td>9.99</td>\n",
       "      <td>Sicilia</td>\n",
       "      <td>Primitivo</td>\n",
       "      <td>Italy</td>\n",
       "    </tr>\n",
       "    <tr>\n",
       "      <th>2</th>\n",
       "      <td>France</td>\n",
       "      <td>12.99</td>\n",
       "      <td>Bordeaux</td>\n",
       "      <td>Merlot</td>\n",
       "      <td>France</td>\n",
       "    </tr>\n",
       "    <tr>\n",
       "      <th>3</th>\n",
       "      <td>Spain</td>\n",
       "      <td>11.99</td>\n",
       "      <td>Rioja</td>\n",
       "      <td>Red blend</td>\n",
       "      <td>Spain</td>\n",
       "    </tr>\n",
       "  </tbody>\n",
       "</table>\n",
       "</div>"
      ],
      "text/plain": [
       "  Country  Price    Region     Variety  Origin\n",
       "0     USA  13.99     Nappa  Chardonnay     USA\n",
       "1   Italy   9.99   Sicilia   Primitivo   Italy\n",
       "2  France  12.99  Bordeaux      Merlot  France\n",
       "3   Spain  11.99     Rioja   Red blend   Spain"
      ]
     },
     "execution_count": 15,
     "metadata": {},
     "output_type": "execute_result"
    }
   ],
   "source": [
    "merged_ds = pd.merge(ds_one, ds_two, left_on = 'Country', right_on = 'Origin')\n",
    "merged_ds"
   ]
  },
  {
   "cell_type": "code",
   "execution_count": 16,
   "id": "a8348ab0",
   "metadata": {},
   "outputs": [],
   "source": [
    "ds_one.index = ds_one['Country']\n",
    "ds_two.index = ds_two['Origin']"
   ]
  },
  {
   "cell_type": "code",
   "execution_count": 18,
   "id": "09b9ef04",
   "metadata": {},
   "outputs": [
    {
     "data": {
      "text/html": [
       "<div>\n",
       "<style scoped>\n",
       "    .dataframe tbody tr th:only-of-type {\n",
       "        vertical-align: middle;\n",
       "    }\n",
       "\n",
       "    .dataframe tbody tr th {\n",
       "        vertical-align: top;\n",
       "    }\n",
       "\n",
       "    .dataframe thead th {\n",
       "        text-align: right;\n",
       "    }\n",
       "</style>\n",
       "<table border=\"1\" class=\"dataframe\">\n",
       "  <thead>\n",
       "    <tr style=\"text-align: right;\">\n",
       "      <th></th>\n",
       "      <th>Country</th>\n",
       "      <th>Price</th>\n",
       "      <th>Region</th>\n",
       "      <th>Variety</th>\n",
       "      <th>Origin</th>\n",
       "    </tr>\n",
       "    <tr>\n",
       "      <th>Country</th>\n",
       "      <th></th>\n",
       "      <th></th>\n",
       "      <th></th>\n",
       "      <th></th>\n",
       "      <th></th>\n",
       "    </tr>\n",
       "  </thead>\n",
       "  <tbody>\n",
       "    <tr>\n",
       "      <th>USA</th>\n",
       "      <td>USA</td>\n",
       "      <td>13.99</td>\n",
       "      <td>Nappa</td>\n",
       "      <td>Chardonnay</td>\n",
       "      <td>USA</td>\n",
       "    </tr>\n",
       "    <tr>\n",
       "      <th>Italy</th>\n",
       "      <td>Italy</td>\n",
       "      <td>9.99</td>\n",
       "      <td>Sicilia</td>\n",
       "      <td>Primitivo</td>\n",
       "      <td>Italy</td>\n",
       "    </tr>\n",
       "    <tr>\n",
       "      <th>France</th>\n",
       "      <td>France</td>\n",
       "      <td>12.99</td>\n",
       "      <td>Bordeaux</td>\n",
       "      <td>Merlot</td>\n",
       "      <td>France</td>\n",
       "    </tr>\n",
       "    <tr>\n",
       "      <th>Spain</th>\n",
       "      <td>Spain</td>\n",
       "      <td>11.99</td>\n",
       "      <td>Rioja</td>\n",
       "      <td>Red blend</td>\n",
       "      <td>Spain</td>\n",
       "    </tr>\n",
       "  </tbody>\n",
       "</table>\n",
       "</div>"
      ],
      "text/plain": [
       "        Country  Price    Region     Variety  Origin\n",
       "Country                                             \n",
       "USA         USA  13.99     Nappa  Chardonnay     USA\n",
       "Italy     Italy   9.99   Sicilia   Primitivo   Italy\n",
       "France   France  12.99  Bordeaux      Merlot  France\n",
       "Spain     Spain  11.99     Rioja   Red blend   Spain"
      ]
     },
     "execution_count": 18,
     "metadata": {},
     "output_type": "execute_result"
    }
   ],
   "source": [
    "joined_ds = ds_one.join(ds_two)\n",
    "joined_ds"
   ]
  },
  {
   "cell_type": "code",
   "execution_count": null,
   "id": "5ef6e868",
   "metadata": {},
   "outputs": [],
   "source": []
  }
 ],
 "metadata": {
  "kernelspec": {
   "display_name": "Python 3 (ipykernel)",
   "language": "python",
   "name": "python3"
  },
  "language_info": {
   "codemirror_mode": {
    "name": "ipython",
    "version": 3
   },
   "file_extension": ".py",
   "mimetype": "text/x-python",
   "name": "python",
   "nbconvert_exporter": "python",
   "pygments_lexer": "ipython3",
   "version": "3.9.7"
  }
 },
 "nbformat": 4,
 "nbformat_minor": 5
}
